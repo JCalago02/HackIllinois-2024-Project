{
 "cells": [
  {
   "cell_type": "code",
   "metadata": {},
   "outputs": [
    {
     "name": "stdout",
     "output_type": "stream",
     "text": [
      "Requirement already satisfied: GitPython in c:\\users\\abhin\\appdata\\local\\programs\\python\\python311\\lib\\site-packages (3.1.42)\n",
      "Requirement already satisfied: gitdb<5,>=4.0.1 in c:\\users\\abhin\\appdata\\local\\programs\\python\\python311\\lib\\site-packages (from GitPython) (4.0.11)\n",
      "Requirement already satisfied: smmap<6,>=3.0.1 in c:\\users\\abhin\\appdata\\local\\programs\\python\\python311\\lib\\site-packages (from gitdb<5,>=4.0.1->GitPython) (5.0.1)\n",
      "Note: you may need to restart the kernel to use updated packages.\n"
     ]
    }
   ],
   "source": [
    "pip install GitPython"
   ]
  },
  {
   "cell_type": "code",
   "metadata": {},
   "outputs": [],
   "source": [
    "from git import *"
   ]
  },
  {
   "cell_type": "code",
   "metadata": {},
   "outputs": [
    {
     "name": "stdout",
     "output_type": "stream",
     "text": [
      "origin/HEAD\n",
      "origin/graph_commit_history\n",
      "origin/main\n"
     ]
    }
   ],
   "source": [
    "Repo = Repo('C:/CompSci/hackillinois2024/HackIllinois-2024-Project')\n",
    "remote_branches = Repo.remote().refs\n",
    "for refs in remote_branches:\n",
    "    print(refs.name)\n"
   ]
  },
  {
   "cell_type": "code",
   "metadata": {},
   "outputs": [
    {
     "name": "stdout",
     "output_type": "stream",
     "text": [
      "gabbas\n"
     ]
    }
   ],
   "source": [
    "print(\"gabbas\")"
   ]
  },
  {
   "cell_type": "code",